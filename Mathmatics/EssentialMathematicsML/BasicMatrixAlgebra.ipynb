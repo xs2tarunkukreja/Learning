{
 "cells": [
  {
   "cell_type": "code",
   "execution_count": 1,
   "metadata": {},
   "outputs": [],
   "source": [
    "import numpy as np"
   ]
  },
  {
   "cell_type": "code",
   "execution_count": 3,
   "metadata": {},
   "outputs": [
    {
     "name": "stdout",
     "output_type": "stream",
     "text": [
      "[[1 7]\n",
      " [2 1]\n",
      " [3 2]]\n",
      "[[ 1  1]\n",
      " [ 1 -1]\n",
      " [ 1  0]]\n"
     ]
    }
   ],
   "source": [
    "P = np.array([[1, 7], [2, 1], [3, 2]])\n",
    "Q = np.array([[1, 1], [1, -1], [1, 0]])\n",
    "\n",
    "print(P)\n",
    "print(Q)"
   ]
  },
  {
   "cell_type": "code",
   "execution_count": 5,
   "metadata": {},
   "outputs": [
    {
     "name": "stdout",
     "output_type": "stream",
     "text": [
      "[[2 8]\n",
      " [3 0]\n",
      " [4 2]]\n"
     ]
    }
   ],
   "source": [
    "C = np.add(P, Q) # subtract\n",
    "print(C)"
   ]
  },
  {
   "cell_type": "code",
   "execution_count": 6,
   "metadata": {},
   "outputs": [
    {
     "name": "stdout",
     "output_type": "stream",
     "text": [
      "[[2 8]\n",
      " [3 0]\n",
      " [4 2]]\n"
     ]
    }
   ],
   "source": [
    "print(P+Q) # -"
   ]
  },
  {
   "cell_type": "code",
   "execution_count": 7,
   "metadata": {},
   "outputs": [],
   "source": [
    "R = np.array([[1, 3, 1], [1, 0, 1]])"
   ]
  },
  {
   "cell_type": "code",
   "execution_count": 14,
   "metadata": {},
   "outputs": [],
   "source": [
    "C2 = np.dot(P, R)"
   ]
  },
  {
   "cell_type": "code",
   "execution_count": 10,
   "metadata": {},
   "outputs": [
    {
     "name": "stdout",
     "output_type": "stream",
     "text": [
      "[[ 1  7]\n",
      " [ 2 -1]\n",
      " [ 3  0]]\n"
     ]
    }
   ],
   "source": [
    "print(P*Q)"
   ]
  },
  {
   "cell_type": "code",
   "execution_count": 16,
   "metadata": {},
   "outputs": [
    {
     "name": "stdout",
     "output_type": "stream",
     "text": [
      "0.0\n"
     ]
    }
   ],
   "source": [
    "print(np.linalg.det(C2)) # determinant\n",
    "\n",
    "# C2 is singular matrix."
   ]
  },
  {
   "cell_type": "code",
   "execution_count": 17,
   "metadata": {},
   "outputs": [
    {
     "name": "stdout",
     "output_type": "stream",
     "text": [
      "[[ 0.6  0.2]\n",
      " [-0.4  0.2]]\n"
     ]
    }
   ],
   "source": [
    "M = np.array([[1, -1], [2, 3]])\n",
    "print(np.linalg.inv(M))"
   ]
  }
 ],
 "metadata": {
  "kernelspec": {
   "display_name": "Python 3",
   "language": "python",
   "name": "python3"
  },
  "language_info": {
   "codemirror_mode": {
    "name": "ipython",
    "version": 3
   },
   "file_extension": ".py",
   "mimetype": "text/x-python",
   "name": "python",
   "nbconvert_exporter": "python",
   "pygments_lexer": "ipython3",
   "version": "3.10.4"
  }
 },
 "nbformat": 4,
 "nbformat_minor": 2
}
