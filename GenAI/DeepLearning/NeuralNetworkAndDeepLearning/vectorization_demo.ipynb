{
 "cells": [
  {
   "cell_type": "code",
   "execution_count": 1,
   "metadata": {},
   "outputs": [],
   "source": [
    "import numpy as np\n",
    "import time"
   ]
  },
  {
   "cell_type": "code",
   "execution_count": 2,
   "metadata": {},
   "outputs": [],
   "source": [
    "a = np.random.rand(1000000)\n",
    "b = np.random.rand(1000000)\n"
   ]
  },
  {
   "cell_type": "code",
   "execution_count": 3,
   "metadata": {},
   "outputs": [
    {
     "name": "stdout",
     "output_type": "stream",
     "text": [
      "Loop :473.4525680541992ms\n"
     ]
    }
   ],
   "source": [
    "c = 0\n",
    "start = time.time()\n",
    "\n",
    "for i in range(1000000):\n",
    "    c = a[i] * b[i]\n",
    "\n",
    "end = time.time()\n",
    "\n",
    "print(\"Loop :\" + str((end-start)*1000) + \"ms\")"
   ]
  },
  {
   "cell_type": "code",
   "execution_count": 4,
   "metadata": {},
   "outputs": [
    {
     "name": "stdout",
     "output_type": "stream",
     "text": [
      "Loop :2.0537376403808594ms\n"
     ]
    }
   ],
   "source": [
    "start = time.time()\n",
    "\n",
    "c = np.dot(a, b)\n",
    "\n",
    "end = time.time()\n",
    "\n",
    "print(\"Loop :\" + str((end-start)*1000) + \"ms\")"
   ]
  }
 ],
 "metadata": {
  "kernelspec": {
   "display_name": "Python 3",
   "language": "python",
   "name": "python3"
  },
  "language_info": {
   "codemirror_mode": {
    "name": "ipython",
    "version": 3
   },
   "file_extension": ".py",
   "mimetype": "text/x-python",
   "name": "python",
   "nbconvert_exporter": "python",
   "pygments_lexer": "ipython3",
   "version": "3.10.4"
  }
 },
 "nbformat": 4,
 "nbformat_minor": 2
}
